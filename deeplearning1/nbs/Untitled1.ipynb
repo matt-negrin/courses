{
 "cells": [
  {
   "cell_type": "code",
   "execution_count": 30,
   "metadata": {
    "collapsed": false
   },
   "outputs": [],
   "source": [
    "import testmod\n",
    "reload(testmod)\n",
    "import os"
   ]
  },
  {
   "cell_type": "code",
   "execution_count": 31,
   "metadata": {
    "collapsed": false
   },
   "outputs": [
    {
     "ename": "TypeError",
     "evalue": "directory_builder() takes exactly 2 arguments (1 given)",
     "output_type": "error",
     "traceback": [
      "\u001b[0;31m---------------------------------------------------------------------------\u001b[0m",
      "\u001b[0;31mTypeError\u001b[0m                                 Traceback (most recent call last)",
      "\u001b[0;32m<ipython-input-31-e16aae42d78a>\u001b[0m in \u001b[0;36m<module>\u001b[0;34m()\u001b[0m\n\u001b[0;32m----> 1\u001b[0;31m \u001b[0mpj\u001b[0m \u001b[0;34m=\u001b[0m \u001b[0mtestmod\u001b[0m\u001b[0;34m.\u001b[0m\u001b[0mproject_setup\u001b[0m\u001b[0;34m(\u001b[0m\u001b[0mos\u001b[0m\u001b[0;34m.\u001b[0m\u001b[0mgetcwd\u001b[0m\u001b[0;34m(\u001b[0m\u001b[0;34m)\u001b[0m\u001b[0;34m,\u001b[0m\u001b[0;34m'kg_dc'\u001b[0m\u001b[0;34m)\u001b[0m\u001b[0;34m\u001b[0m\u001b[0m\n\u001b[0m",
      "\u001b[0;32m/Users/matthew.negrin/deeplearning/courses/deeplearning1/nbs/testmod.py\u001b[0m in \u001b[0;36m__init__\u001b[0;34m(self, gen_data_dir, project)\u001b[0m\n\u001b[1;32m      7\u001b[0m       \u001b[0mself\u001b[0m\u001b[0;34m.\u001b[0m\u001b[0mproject\u001b[0m \u001b[0;34m=\u001b[0m \u001b[0mproject\u001b[0m\u001b[0;34m\u001b[0m\u001b[0m\n\u001b[1;32m      8\u001b[0m       \u001b[0mself\u001b[0m\u001b[0;34m.\u001b[0m\u001b[0mproject_dir\u001b[0m \u001b[0;34m=\u001b[0m \u001b[0mgen_data_dir\u001b[0m \u001b[0;34m+\u001b[0m \u001b[0;34m'/'\u001b[0m \u001b[0;34m+\u001b[0m \u001b[0mproject\u001b[0m\u001b[0;34m\u001b[0m\u001b[0m\n\u001b[0;32m----> 9\u001b[0;31m       \u001b[0mself\u001b[0m\u001b[0;34m.\u001b[0m\u001b[0mdirectory_builder\u001b[0m\u001b[0;34m(\u001b[0m\u001b[0;34m)\u001b[0m\u001b[0;34m\u001b[0m\u001b[0m\n\u001b[0m\u001b[1;32m     10\u001b[0m \u001b[0;34m\u001b[0m\u001b[0m\n\u001b[1;32m     11\u001b[0m     \u001b[0;32mdef\u001b[0m \u001b[0mdirectory_builder\u001b[0m\u001b[0;34m(\u001b[0m\u001b[0mgen_data_dir\u001b[0m\u001b[0;34m,\u001b[0m \u001b[0mproject_dir\u001b[0m\u001b[0;34m)\u001b[0m\u001b[0;34m:\u001b[0m\u001b[0;34m\u001b[0m\u001b[0m\n",
      "\u001b[0;31mTypeError\u001b[0m: directory_builder() takes exactly 2 arguments (1 given)"
     ]
    }
   ],
   "source": [
    "pj = testmod.project_setup(os.getcwd(),'kg_dc')"
   ]
  },
  {
   "cell_type": "code",
   "execution_count": 17,
   "metadata": {
    "collapsed": false
   },
   "outputs": [],
   "source": [
    "# dir does not end with a /, path ends with a /\n",
    "current_dir = os.getcwd()\n",
    "data_dir = current_dir + '/data'\n",
    "project_dir = current_dir + '/data/kag_dogscats' #sample/\n",
    "results_path=data_dir + '/results/'\n",
    "train_path=data_dir + '/train/'\n",
    "valid_path=data_dir + '/valid/'\n",
    "test_path=data_dir + '/test/'\n",
    "model_path=data_dir + '/models/'"
   ]
  },
  {
   "cell_type": "code",
   "execution_count": 18,
   "metadata": {
    "collapsed": false
   },
   "outputs": [
    {
     "name": "stdout",
     "output_type": "stream",
     "text": [
      "/Users/matthew.negrin/deeplearning/courses/deeplearning1/nbs\n",
      "/Users/matthew.negrin/deeplearning/courses/deeplearning1/nbs/data\n",
      "/Users/matthew.negrin/deeplearning/courses/deeplearning1/nbs/data/results/\n",
      "/Users/matthew.negrin/deeplearning/courses/deeplearning1/nbs/data/train/\n"
     ]
    }
   ],
   "source": [
    "print current_dir\n",
    "print data_dir\n",
    "print results_path\n",
    "print train_path"
   ]
  },
  {
   "cell_type": "code",
   "execution_count": null,
   "metadata": {
    "collapsed": true
   },
   "outputs": [],
   "source": [
    "testmod.directory_builder(data_dir)"
   ]
  }
 ],
 "metadata": {
  "anaconda-cloud": {},
  "kernelspec": {
   "display_name": "Python [conda env:fastai_py27]",
   "language": "python",
   "name": "conda-env-fastai_py27-py"
  },
  "language_info": {
   "codemirror_mode": {
    "name": "ipython",
    "version": 2
   },
   "file_extension": ".py",
   "mimetype": "text/x-python",
   "name": "python",
   "nbconvert_exporter": "python",
   "pygments_lexer": "ipython2",
   "version": "2.7.12"
  }
 },
 "nbformat": 4,
 "nbformat_minor": 1
}
