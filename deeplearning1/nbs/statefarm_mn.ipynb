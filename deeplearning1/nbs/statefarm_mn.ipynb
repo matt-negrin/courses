{
 "cells": [
  {
   "cell_type": "code",
   "execution_count": 7,
   "metadata": {
    "collapsed": false
   },
   "outputs": [],
   "source": [
    "import os\n",
    "from utils import *\n",
    "import keras.layers.convolutional as convolutional\n",
    "from keras.models import Sequential\n",
    "import json\n",
    "%matplotlib inline\n",
    "from __future__ import print_function, division\n",
    "import numpy\n",
    "from os import listdir"
   ]
  },
  {
   "cell_type": "code",
   "execution_count": 25,
   "metadata": {
    "collapsed": false
   },
   "outputs": [],
   "source": [
    "import pandas as pd\n",
    "def mv_valid():\n",
    "    # read the CSV file into a pandas DataFrame\n",
    "    dil = pd.read_csv(path + 'driver_imgs_list.csv')\n",
    "    # group the frame by the subject in the image\n",
    "    grouped = dil.groupby('subject')\n",
    "    # pick a subject at random\n",
    "    subject = groups.keys()[np.random.randint(0, high=len(groups)-1)]\n",
    "    # get the group associated with the subject\n",
    "    group = grouped.get_group(subject)\n",
    "    # loop over the group and move the images into the validation directory\n",
    "    for (subject, cls, img) in group.values:\n",
    "        source = '{}train/{}/{}'.format(path, cls, img)\n",
    "        target = source.replace('train', 'valid')\n",
    "        print('mv {} {}'.format(source, target))\n",
    "        os.rename(source, target)"
   ]
  }
 ],
 "metadata": {
  "anaconda-cloud": {},
  "kernelspec": {
   "display_name": "Python [conda root]",
   "language": "python",
   "name": "conda-root-py"
  },
  "language_info": {
   "codemirror_mode": {
    "name": "ipython",
    "version": 2
   },
   "file_extension": ".py",
   "mimetype": "text/x-python",
   "name": "python",
   "nbconvert_exporter": "python",
   "pygments_lexer": "ipython2",
   "version": "2.7.12"
  }
 },
 "nbformat": 4,
 "nbformat_minor": 1
}
